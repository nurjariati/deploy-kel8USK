{
 "cells": [
  {
   "cell_type": "markdown",
   "metadata": {},
   "source": [
    "## EKSPLORASI DAN PERSIAPAN DATA"
   ]
  },
  {
   "cell_type": "code",
   "execution_count": 1,
   "metadata": {},
   "outputs": [],
   "source": [
    "import pandas as pd\n",
    "import numpy as np"
   ]
  },
  {
   "cell_type": "code",
   "execution_count": 2,
   "metadata": {},
   "outputs": [
    {
     "name": "stdout",
     "output_type": "stream",
     "text": [
      "         Provinsi   2020   2019   2018   2017  2016   2015   2014   2013  \\\n",
      "0            ACEH  71.99  71.90  71.19  70.60  70.0  69.45  68.81  68.30   \n",
      "1  SUMATERA UTARA  71.77  71.74  71.18  70.57  70.0  69.51  68.87  68.36   \n",
      "\n",
      "    2012   2011   2010  \n",
      "0  67.81  67.45  67.09  \n",
      "1  67.74  67.34  67.09  \n",
      "\n",
      "         Provinsi   2020   2019   2018   2017   2016   2015   2014   2013  \\\n",
      "0            ACEH  69.93  69.87  69.64  69.52  69.51  69.50  69.35  69.31   \n",
      "1  SUMATERA UTARA  69.10  68.95  68.61  68.37  68.33  68.29  68.04  67.94   \n",
      "\n",
      "    2012   2011   2010  \n",
      "0  69.23  69.15  69.08  \n",
      "1  67.81  67.63  67.46  \n",
      "\n",
      "         Provinsi   2020   2019   2018   2017  2016  2015  2014  2013    2012  \\\n",
      "0            ACEH   9492   9603   9186   8957  8768  8533  8297  8289  8134.0   \n",
      "1  SUMATERA UTARA  10420  10649  10391  10036  9744  9563  9391  9309  9266.0   \n",
      "\n",
      "     2011    2010  \n",
      "0  8044.0  7934.0  \n",
      "1  9231.0  9196.0  \n",
      "\n",
      "         Provinsi   2020   2019   2018   2017   2016   2015   2014   2013  \\\n",
      "0            ACEH  14.31  14.30  14.27  14.13  13.89  13.73  13.53  13.36   \n",
      "1  SUMATERA UTARA  13.23  13.15  13.14  13.10  13.00  12.82  12.61  12.41   \n",
      "\n",
      "    2012   2011   2010  \n",
      "0  13.19  13.03  12.90  \n",
      "1  11.97  11.83  11.82  \n",
      "\n",
      "         Provinsi  2020  2019  2018  2017  2016  2015  2014  2013  2012  2011  \\\n",
      "0            ACEH  9.33  9.18  9.09  8.98  8.86  8.77  8.71  8.44  8.36  8.32   \n",
      "1  SUMATERA UTARA  9.54  9.45  9.34  9.25  9.12  9.03  8.93  8.79  8.72  8.61   \n",
      "\n",
      "   2010  \n",
      "0  8.28  \n",
      "1  8.51  \n"
     ]
    }
   ],
   "source": [
    "#import semua data\n",
    "ipm=pd.read_csv('ipm.csv')\n",
    "uhh=pd.read_csv('uhh.csv')\n",
    "ppp=pd.read_csv('ppp.csv')\n",
    "hls=pd.read_csv('hls.csv')\n",
    "rls=pd.read_csv('rls.csv')\n",
    "\n",
    "print(ipm.head(2))\n",
    "print ()\n",
    "print(uhh.head(2))\n",
    "print ()\n",
    "print(ppp.head(2))\n",
    "print ()\n",
    "print(hls.head(2))\n",
    "print ()\n",
    "print(rls.head(2))"
   ]
  },
  {
   "cell_type": "code",
   "execution_count": 3,
   "metadata": {},
   "outputs": [
    {
     "data": {
      "text/html": [
       "<div>\n",
       "<style scoped>\n",
       "    .dataframe tbody tr th:only-of-type {\n",
       "        vertical-align: middle;\n",
       "    }\n",
       "\n",
       "    .dataframe tbody tr th {\n",
       "        vertical-align: top;\n",
       "    }\n",
       "\n",
       "    .dataframe thead th {\n",
       "        text-align: right;\n",
       "    }\n",
       "</style>\n",
       "<table border=\"1\" class=\"dataframe\">\n",
       "  <thead>\n",
       "    <tr style=\"text-align: right;\">\n",
       "      <th></th>\n",
       "      <th>Provinsi</th>\n",
       "      <th>Tahun</th>\n",
       "      <th>IPM</th>\n",
       "    </tr>\n",
       "  </thead>\n",
       "  <tbody>\n",
       "    <tr>\n",
       "      <th>0</th>\n",
       "      <td>ACEH</td>\n",
       "      <td>2020</td>\n",
       "      <td>71.99</td>\n",
       "    </tr>\n",
       "    <tr>\n",
       "      <th>1</th>\n",
       "      <td>SUMATERA UTARA</td>\n",
       "      <td>2020</td>\n",
       "      <td>71.77</td>\n",
       "    </tr>\n",
       "    <tr>\n",
       "      <th>2</th>\n",
       "      <td>SUMATERA BARAT</td>\n",
       "      <td>2020</td>\n",
       "      <td>72.38</td>\n",
       "    </tr>\n",
       "    <tr>\n",
       "      <th>3</th>\n",
       "      <td>RIAU</td>\n",
       "      <td>2020</td>\n",
       "      <td>72.71</td>\n",
       "    </tr>\n",
       "    <tr>\n",
       "      <th>4</th>\n",
       "      <td>JAMBI</td>\n",
       "      <td>2020</td>\n",
       "      <td>71.29</td>\n",
       "    </tr>\n",
       "    <tr>\n",
       "      <th>...</th>\n",
       "      <td>...</td>\n",
       "      <td>...</td>\n",
       "      <td>...</td>\n",
       "    </tr>\n",
       "    <tr>\n",
       "      <th>369</th>\n",
       "      <td>SULAWESI BARAT</td>\n",
       "      <td>2010</td>\n",
       "      <td>59.74</td>\n",
       "    </tr>\n",
       "    <tr>\n",
       "      <th>370</th>\n",
       "      <td>MALUKU</td>\n",
       "      <td>2010</td>\n",
       "      <td>64.27</td>\n",
       "    </tr>\n",
       "    <tr>\n",
       "      <th>371</th>\n",
       "      <td>MALUKU UTARA</td>\n",
       "      <td>2010</td>\n",
       "      <td>62.79</td>\n",
       "    </tr>\n",
       "    <tr>\n",
       "      <th>372</th>\n",
       "      <td>PAPUA BARAT</td>\n",
       "      <td>2010</td>\n",
       "      <td>59.60</td>\n",
       "    </tr>\n",
       "    <tr>\n",
       "      <th>373</th>\n",
       "      <td>PAPUA</td>\n",
       "      <td>2010</td>\n",
       "      <td>54.45</td>\n",
       "    </tr>\n",
       "  </tbody>\n",
       "</table>\n",
       "<p>374 rows × 3 columns</p>\n",
       "</div>"
      ],
      "text/plain": [
       "           Provinsi Tahun    IPM\n",
       "0              ACEH  2020  71.99\n",
       "1    SUMATERA UTARA  2020  71.77\n",
       "2    SUMATERA BARAT  2020  72.38\n",
       "3              RIAU  2020  72.71\n",
       "4             JAMBI  2020  71.29\n",
       "..              ...   ...    ...\n",
       "369  SULAWESI BARAT  2010  59.74\n",
       "370          MALUKU  2010  64.27\n",
       "371    MALUKU UTARA  2010  62.79\n",
       "372     PAPUA BARAT  2010  59.60\n",
       "373           PAPUA  2010  54.45\n",
       "\n",
       "[374 rows x 3 columns]"
      ]
     },
     "execution_count": 3,
     "metadata": {},
     "output_type": "execute_result"
    }
   ],
   "source": [
    "#ubah tabel ipm\n",
    "df1=ipm.melt(id_vars=\"Provinsi\",\n",
    "             var_name=\"Tahun\",\n",
    "             value_name=\"IPM\")\n",
    "df1"
   ]
  },
  {
   "cell_type": "code",
   "execution_count": 4,
   "metadata": {},
   "outputs": [
    {
     "data": {
      "text/html": [
       "<div>\n",
       "<style scoped>\n",
       "    .dataframe tbody tr th:only-of-type {\n",
       "        vertical-align: middle;\n",
       "    }\n",
       "\n",
       "    .dataframe tbody tr th {\n",
       "        vertical-align: top;\n",
       "    }\n",
       "\n",
       "    .dataframe thead th {\n",
       "        text-align: right;\n",
       "    }\n",
       "</style>\n",
       "<table border=\"1\" class=\"dataframe\">\n",
       "  <thead>\n",
       "    <tr style=\"text-align: right;\">\n",
       "      <th></th>\n",
       "      <th>Provinsi</th>\n",
       "      <th>Tahun</th>\n",
       "      <th>UHH</th>\n",
       "    </tr>\n",
       "  </thead>\n",
       "  <tbody>\n",
       "    <tr>\n",
       "      <th>0</th>\n",
       "      <td>ACEH</td>\n",
       "      <td>2020</td>\n",
       "      <td>69.93</td>\n",
       "    </tr>\n",
       "    <tr>\n",
       "      <th>1</th>\n",
       "      <td>SUMATERA UTARA</td>\n",
       "      <td>2020</td>\n",
       "      <td>69.10</td>\n",
       "    </tr>\n",
       "    <tr>\n",
       "      <th>2</th>\n",
       "      <td>SUMATERA BARAT</td>\n",
       "      <td>2020</td>\n",
       "      <td>69.47</td>\n",
       "    </tr>\n",
       "    <tr>\n",
       "      <th>3</th>\n",
       "      <td>RIAU</td>\n",
       "      <td>2020</td>\n",
       "      <td>71.60</td>\n",
       "    </tr>\n",
       "    <tr>\n",
       "      <th>4</th>\n",
       "      <td>JAMBI</td>\n",
       "      <td>2020</td>\n",
       "      <td>71.16</td>\n",
       "    </tr>\n",
       "    <tr>\n",
       "      <th>...</th>\n",
       "      <td>...</td>\n",
       "      <td>...</td>\n",
       "      <td>...</td>\n",
       "    </tr>\n",
       "    <tr>\n",
       "      <th>369</th>\n",
       "      <td>SULAWESI BARAT</td>\n",
       "      <td>2010</td>\n",
       "      <td>62.50</td>\n",
       "    </tr>\n",
       "    <tr>\n",
       "      <th>370</th>\n",
       "      <td>MALUKU</td>\n",
       "      <td>2010</td>\n",
       "      <td>64.46</td>\n",
       "    </tr>\n",
       "    <tr>\n",
       "      <th>371</th>\n",
       "      <td>MALUKU UTARA</td>\n",
       "      <td>2010</td>\n",
       "      <td>66.70</td>\n",
       "    </tr>\n",
       "    <tr>\n",
       "      <th>372</th>\n",
       "      <td>PAPUA BARAT</td>\n",
       "      <td>2010</td>\n",
       "      <td>64.59</td>\n",
       "    </tr>\n",
       "    <tr>\n",
       "      <th>373</th>\n",
       "      <td>PAPUA</td>\n",
       "      <td>2010</td>\n",
       "      <td>64.31</td>\n",
       "    </tr>\n",
       "  </tbody>\n",
       "</table>\n",
       "<p>374 rows × 3 columns</p>\n",
       "</div>"
      ],
      "text/plain": [
       "           Provinsi Tahun    UHH\n",
       "0              ACEH  2020  69.93\n",
       "1    SUMATERA UTARA  2020  69.10\n",
       "2    SUMATERA BARAT  2020  69.47\n",
       "3              RIAU  2020  71.60\n",
       "4             JAMBI  2020  71.16\n",
       "..              ...   ...    ...\n",
       "369  SULAWESI BARAT  2010  62.50\n",
       "370          MALUKU  2010  64.46\n",
       "371    MALUKU UTARA  2010  66.70\n",
       "372     PAPUA BARAT  2010  64.59\n",
       "373           PAPUA  2010  64.31\n",
       "\n",
       "[374 rows x 3 columns]"
      ]
     },
     "execution_count": 4,
     "metadata": {},
     "output_type": "execute_result"
    }
   ],
   "source": [
    "#ubah tabel UHH\n",
    "df2=uhh.melt(id_vars=\"Provinsi\",\n",
    "             var_name=\"Tahun\",\n",
    "             value_name=\"UHH\")\n",
    "df2"
   ]
  },
  {
   "cell_type": "code",
   "execution_count": 5,
   "metadata": {},
   "outputs": [
    {
     "data": {
      "text/html": [
       "<div>\n",
       "<style scoped>\n",
       "    .dataframe tbody tr th:only-of-type {\n",
       "        vertical-align: middle;\n",
       "    }\n",
       "\n",
       "    .dataframe tbody tr th {\n",
       "        vertical-align: top;\n",
       "    }\n",
       "\n",
       "    .dataframe thead th {\n",
       "        text-align: right;\n",
       "    }\n",
       "</style>\n",
       "<table border=\"1\" class=\"dataframe\">\n",
       "  <thead>\n",
       "    <tr style=\"text-align: right;\">\n",
       "      <th></th>\n",
       "      <th>Provinsi</th>\n",
       "      <th>Tahun</th>\n",
       "      <th>PPP</th>\n",
       "    </tr>\n",
       "  </thead>\n",
       "  <tbody>\n",
       "    <tr>\n",
       "      <th>0</th>\n",
       "      <td>ACEH</td>\n",
       "      <td>2020</td>\n",
       "      <td>9492.0</td>\n",
       "    </tr>\n",
       "    <tr>\n",
       "      <th>1</th>\n",
       "      <td>SUMATERA UTARA</td>\n",
       "      <td>2020</td>\n",
       "      <td>10420.0</td>\n",
       "    </tr>\n",
       "    <tr>\n",
       "      <th>2</th>\n",
       "      <td>SUMATERA BARAT</td>\n",
       "      <td>2020</td>\n",
       "      <td>10733.0</td>\n",
       "    </tr>\n",
       "    <tr>\n",
       "      <th>3</th>\n",
       "      <td>RIAU</td>\n",
       "      <td>2020</td>\n",
       "      <td>10675.0</td>\n",
       "    </tr>\n",
       "    <tr>\n",
       "      <th>4</th>\n",
       "      <td>JAMBI</td>\n",
       "      <td>2020</td>\n",
       "      <td>10392.0</td>\n",
       "    </tr>\n",
       "    <tr>\n",
       "      <th>...</th>\n",
       "      <td>...</td>\n",
       "      <td>...</td>\n",
       "      <td>...</td>\n",
       "    </tr>\n",
       "    <tr>\n",
       "      <th>369</th>\n",
       "      <td>SULAWESI BARAT</td>\n",
       "      <td>2010</td>\n",
       "      <td>8003.0</td>\n",
       "    </tr>\n",
       "    <tr>\n",
       "      <th>370</th>\n",
       "      <td>MALUKU</td>\n",
       "      <td>2010</td>\n",
       "      <td>7362.0</td>\n",
       "    </tr>\n",
       "    <tr>\n",
       "      <th>371</th>\n",
       "      <td>MALUKU UTARA</td>\n",
       "      <td>2010</td>\n",
       "      <td>6813.0</td>\n",
       "    </tr>\n",
       "    <tr>\n",
       "      <th>372</th>\n",
       "      <td>PAPUA BARAT</td>\n",
       "      <td>2010</td>\n",
       "      <td>6677.0</td>\n",
       "    </tr>\n",
       "    <tr>\n",
       "      <th>373</th>\n",
       "      <td>PAPUA</td>\n",
       "      <td>2010</td>\n",
       "      <td>6251.0</td>\n",
       "    </tr>\n",
       "  </tbody>\n",
       "</table>\n",
       "<p>374 rows × 3 columns</p>\n",
       "</div>"
      ],
      "text/plain": [
       "           Provinsi Tahun      PPP\n",
       "0              ACEH  2020   9492.0\n",
       "1    SUMATERA UTARA  2020  10420.0\n",
       "2    SUMATERA BARAT  2020  10733.0\n",
       "3              RIAU  2020  10675.0\n",
       "4             JAMBI  2020  10392.0\n",
       "..              ...   ...      ...\n",
       "369  SULAWESI BARAT  2010   8003.0\n",
       "370          MALUKU  2010   7362.0\n",
       "371    MALUKU UTARA  2010   6813.0\n",
       "372     PAPUA BARAT  2010   6677.0\n",
       "373           PAPUA  2010   6251.0\n",
       "\n",
       "[374 rows x 3 columns]"
      ]
     },
     "execution_count": 5,
     "metadata": {},
     "output_type": "execute_result"
    }
   ],
   "source": [
    "#ubah tabel PPP\n",
    "df3=ppp.melt(id_vars=\"Provinsi\",\n",
    "             var_name=\"Tahun\",\n",
    "             value_name=\"PPP\")\n",
    "\n",
    "df3"
   ]
  },
  {
   "cell_type": "code",
   "execution_count": 6,
   "metadata": {},
   "outputs": [
    {
     "data": {
      "text/html": [
       "<div>\n",
       "<style scoped>\n",
       "    .dataframe tbody tr th:only-of-type {\n",
       "        vertical-align: middle;\n",
       "    }\n",
       "\n",
       "    .dataframe tbody tr th {\n",
       "        vertical-align: top;\n",
       "    }\n",
       "\n",
       "    .dataframe thead th {\n",
       "        text-align: right;\n",
       "    }\n",
       "</style>\n",
       "<table border=\"1\" class=\"dataframe\">\n",
       "  <thead>\n",
       "    <tr style=\"text-align: right;\">\n",
       "      <th></th>\n",
       "      <th>Provinsi</th>\n",
       "      <th>Tahun</th>\n",
       "      <th>HLS</th>\n",
       "    </tr>\n",
       "  </thead>\n",
       "  <tbody>\n",
       "    <tr>\n",
       "      <th>0</th>\n",
       "      <td>ACEH</td>\n",
       "      <td>2020</td>\n",
       "      <td>14.31</td>\n",
       "    </tr>\n",
       "    <tr>\n",
       "      <th>1</th>\n",
       "      <td>SUMATERA UTARA</td>\n",
       "      <td>2020</td>\n",
       "      <td>13.23</td>\n",
       "    </tr>\n",
       "    <tr>\n",
       "      <th>2</th>\n",
       "      <td>SUMATERA BARAT</td>\n",
       "      <td>2020</td>\n",
       "      <td>14.02</td>\n",
       "    </tr>\n",
       "    <tr>\n",
       "      <th>3</th>\n",
       "      <td>RIAU</td>\n",
       "      <td>2020</td>\n",
       "      <td>13.20</td>\n",
       "    </tr>\n",
       "    <tr>\n",
       "      <th>4</th>\n",
       "      <td>JAMBI</td>\n",
       "      <td>2020</td>\n",
       "      <td>12.98</td>\n",
       "    </tr>\n",
       "    <tr>\n",
       "      <th>...</th>\n",
       "      <td>...</td>\n",
       "      <td>...</td>\n",
       "      <td>...</td>\n",
       "    </tr>\n",
       "    <tr>\n",
       "      <th>369</th>\n",
       "      <td>SULAWESI BARAT</td>\n",
       "      <td>2010</td>\n",
       "      <td>10.58</td>\n",
       "    </tr>\n",
       "    <tr>\n",
       "      <th>370</th>\n",
       "      <td>MALUKU</td>\n",
       "      <td>2010</td>\n",
       "      <td>12.62</td>\n",
       "    </tr>\n",
       "    <tr>\n",
       "      <th>371</th>\n",
       "      <td>MALUKU UTARA</td>\n",
       "      <td>2010</td>\n",
       "      <td>11.74</td>\n",
       "    </tr>\n",
       "    <tr>\n",
       "      <th>372</th>\n",
       "      <td>PAPUA BARAT</td>\n",
       "      <td>2010</td>\n",
       "      <td>11.10</td>\n",
       "    </tr>\n",
       "    <tr>\n",
       "      <th>373</th>\n",
       "      <td>PAPUA</td>\n",
       "      <td>2010</td>\n",
       "      <td>8.57</td>\n",
       "    </tr>\n",
       "  </tbody>\n",
       "</table>\n",
       "<p>374 rows × 3 columns</p>\n",
       "</div>"
      ],
      "text/plain": [
       "           Provinsi Tahun    HLS\n",
       "0              ACEH  2020  14.31\n",
       "1    SUMATERA UTARA  2020  13.23\n",
       "2    SUMATERA BARAT  2020  14.02\n",
       "3              RIAU  2020  13.20\n",
       "4             JAMBI  2020  12.98\n",
       "..              ...   ...    ...\n",
       "369  SULAWESI BARAT  2010  10.58\n",
       "370          MALUKU  2010  12.62\n",
       "371    MALUKU UTARA  2010  11.74\n",
       "372     PAPUA BARAT  2010  11.10\n",
       "373           PAPUA  2010   8.57\n",
       "\n",
       "[374 rows x 3 columns]"
      ]
     },
     "execution_count": 6,
     "metadata": {},
     "output_type": "execute_result"
    }
   ],
   "source": [
    "#ubah tabel HLS\n",
    "df4=hls.melt(id_vars=\"Provinsi\",\n",
    "             var_name=\"Tahun\",\n",
    "             value_name=\"HLS\")\n",
    "\n",
    "df4"
   ]
  },
  {
   "cell_type": "code",
   "execution_count": 7,
   "metadata": {},
   "outputs": [
    {
     "data": {
      "text/html": [
       "<div>\n",
       "<style scoped>\n",
       "    .dataframe tbody tr th:only-of-type {\n",
       "        vertical-align: middle;\n",
       "    }\n",
       "\n",
       "    .dataframe tbody tr th {\n",
       "        vertical-align: top;\n",
       "    }\n",
       "\n",
       "    .dataframe thead th {\n",
       "        text-align: right;\n",
       "    }\n",
       "</style>\n",
       "<table border=\"1\" class=\"dataframe\">\n",
       "  <thead>\n",
       "    <tr style=\"text-align: right;\">\n",
       "      <th></th>\n",
       "      <th>Provinsi</th>\n",
       "      <th>Tahun</th>\n",
       "      <th>RLS</th>\n",
       "    </tr>\n",
       "  </thead>\n",
       "  <tbody>\n",
       "    <tr>\n",
       "      <th>0</th>\n",
       "      <td>ACEH</td>\n",
       "      <td>2020</td>\n",
       "      <td>9.33</td>\n",
       "    </tr>\n",
       "    <tr>\n",
       "      <th>1</th>\n",
       "      <td>SUMATERA UTARA</td>\n",
       "      <td>2020</td>\n",
       "      <td>9.54</td>\n",
       "    </tr>\n",
       "    <tr>\n",
       "      <th>2</th>\n",
       "      <td>SUMATERA BARAT</td>\n",
       "      <td>2020</td>\n",
       "      <td>8.99</td>\n",
       "    </tr>\n",
       "    <tr>\n",
       "      <th>3</th>\n",
       "      <td>RIAU</td>\n",
       "      <td>2020</td>\n",
       "      <td>9.14</td>\n",
       "    </tr>\n",
       "    <tr>\n",
       "      <th>4</th>\n",
       "      <td>JAMBI</td>\n",
       "      <td>2020</td>\n",
       "      <td>8.55</td>\n",
       "    </tr>\n",
       "    <tr>\n",
       "      <th>...</th>\n",
       "      <td>...</td>\n",
       "      <td>...</td>\n",
       "      <td>...</td>\n",
       "    </tr>\n",
       "    <tr>\n",
       "      <th>369</th>\n",
       "      <td>SULAWESI BARAT</td>\n",
       "      <td>2010</td>\n",
       "      <td>6.63</td>\n",
       "    </tr>\n",
       "    <tr>\n",
       "      <th>370</th>\n",
       "      <td>MALUKU</td>\n",
       "      <td>2010</td>\n",
       "      <td>8.64</td>\n",
       "    </tr>\n",
       "    <tr>\n",
       "      <th>371</th>\n",
       "      <td>MALUKU UTARA</td>\n",
       "      <td>2010</td>\n",
       "      <td>7.91</td>\n",
       "    </tr>\n",
       "    <tr>\n",
       "      <th>372</th>\n",
       "      <td>PAPUA BARAT</td>\n",
       "      <td>2010</td>\n",
       "      <td>6.77</td>\n",
       "    </tr>\n",
       "    <tr>\n",
       "      <th>373</th>\n",
       "      <td>PAPUA</td>\n",
       "      <td>2010</td>\n",
       "      <td>5.59</td>\n",
       "    </tr>\n",
       "  </tbody>\n",
       "</table>\n",
       "<p>374 rows × 3 columns</p>\n",
       "</div>"
      ],
      "text/plain": [
       "           Provinsi Tahun   RLS\n",
       "0              ACEH  2020  9.33\n",
       "1    SUMATERA UTARA  2020  9.54\n",
       "2    SUMATERA BARAT  2020  8.99\n",
       "3              RIAU  2020  9.14\n",
       "4             JAMBI  2020  8.55\n",
       "..              ...   ...   ...\n",
       "369  SULAWESI BARAT  2010  6.63\n",
       "370          MALUKU  2010  8.64\n",
       "371    MALUKU UTARA  2010  7.91\n",
       "372     PAPUA BARAT  2010  6.77\n",
       "373           PAPUA  2010  5.59\n",
       "\n",
       "[374 rows x 3 columns]"
      ]
     },
     "execution_count": 7,
     "metadata": {},
     "output_type": "execute_result"
    }
   ],
   "source": [
    "#ubah tabel RLS\n",
    "df5=rls.melt(id_vars=\"Provinsi\",\n",
    "             var_name=\"Tahun\",\n",
    "             value_name=\"RLS\")\n",
    "\n",
    "df5"
   ]
  },
  {
   "cell_type": "code",
   "execution_count": 8,
   "metadata": {},
   "outputs": [
    {
     "data": {
      "text/html": [
       "<div>\n",
       "<style scoped>\n",
       "    .dataframe tbody tr th:only-of-type {\n",
       "        vertical-align: middle;\n",
       "    }\n",
       "\n",
       "    .dataframe tbody tr th {\n",
       "        vertical-align: top;\n",
       "    }\n",
       "\n",
       "    .dataframe thead th {\n",
       "        text-align: right;\n",
       "    }\n",
       "</style>\n",
       "<table border=\"1\" class=\"dataframe\">\n",
       "  <thead>\n",
       "    <tr style=\"text-align: right;\">\n",
       "      <th></th>\n",
       "      <th>Provinsi</th>\n",
       "      <th>Tahun</th>\n",
       "      <th>IPM</th>\n",
       "      <th>UHH</th>\n",
       "      <th>PPP</th>\n",
       "      <th>HLS</th>\n",
       "      <th>RLS</th>\n",
       "    </tr>\n",
       "  </thead>\n",
       "  <tbody>\n",
       "    <tr>\n",
       "      <th>0</th>\n",
       "      <td>ACEH</td>\n",
       "      <td>2020</td>\n",
       "      <td>71.99</td>\n",
       "      <td>69.93</td>\n",
       "      <td>9492.0</td>\n",
       "      <td>14.31</td>\n",
       "      <td>9.33</td>\n",
       "    </tr>\n",
       "    <tr>\n",
       "      <th>1</th>\n",
       "      <td>SUMATERA UTARA</td>\n",
       "      <td>2020</td>\n",
       "      <td>71.77</td>\n",
       "      <td>69.10</td>\n",
       "      <td>10420.0</td>\n",
       "      <td>13.23</td>\n",
       "      <td>9.54</td>\n",
       "    </tr>\n",
       "    <tr>\n",
       "      <th>2</th>\n",
       "      <td>SUMATERA BARAT</td>\n",
       "      <td>2020</td>\n",
       "      <td>72.38</td>\n",
       "      <td>69.47</td>\n",
       "      <td>10733.0</td>\n",
       "      <td>14.02</td>\n",
       "      <td>8.99</td>\n",
       "    </tr>\n",
       "    <tr>\n",
       "      <th>3</th>\n",
       "      <td>RIAU</td>\n",
       "      <td>2020</td>\n",
       "      <td>72.71</td>\n",
       "      <td>71.60</td>\n",
       "      <td>10675.0</td>\n",
       "      <td>13.20</td>\n",
       "      <td>9.14</td>\n",
       "    </tr>\n",
       "    <tr>\n",
       "      <th>4</th>\n",
       "      <td>JAMBI</td>\n",
       "      <td>2020</td>\n",
       "      <td>71.29</td>\n",
       "      <td>71.16</td>\n",
       "      <td>10392.0</td>\n",
       "      <td>12.98</td>\n",
       "      <td>8.55</td>\n",
       "    </tr>\n",
       "    <tr>\n",
       "      <th>5</th>\n",
       "      <td>SUMATERA SELATAN</td>\n",
       "      <td>2020</td>\n",
       "      <td>70.01</td>\n",
       "      <td>69.88</td>\n",
       "      <td>10652.0</td>\n",
       "      <td>12.45</td>\n",
       "      <td>8.24</td>\n",
       "    </tr>\n",
       "    <tr>\n",
       "      <th>6</th>\n",
       "      <td>BENGKULU</td>\n",
       "      <td>2020</td>\n",
       "      <td>71.40</td>\n",
       "      <td>69.35</td>\n",
       "      <td>10380.0</td>\n",
       "      <td>13.61</td>\n",
       "      <td>8.84</td>\n",
       "    </tr>\n",
       "    <tr>\n",
       "      <th>7</th>\n",
       "      <td>LAMPUNG</td>\n",
       "      <td>2020</td>\n",
       "      <td>69.69</td>\n",
       "      <td>70.65</td>\n",
       "      <td>9982.0</td>\n",
       "      <td>12.65</td>\n",
       "      <td>8.05</td>\n",
       "    </tr>\n",
       "    <tr>\n",
       "      <th>8</th>\n",
       "      <td>KEP. BANGKA BELITUNG</td>\n",
       "      <td>2020</td>\n",
       "      <td>71.47</td>\n",
       "      <td>70.64</td>\n",
       "      <td>12794.0</td>\n",
       "      <td>12.05</td>\n",
       "      <td>8.06</td>\n",
       "    </tr>\n",
       "    <tr>\n",
       "      <th>9</th>\n",
       "      <td>KEPULAUAN RIAU</td>\n",
       "      <td>2020</td>\n",
       "      <td>75.59</td>\n",
       "      <td>69.96</td>\n",
       "      <td>14209.0</td>\n",
       "      <td>12.87</td>\n",
       "      <td>10.12</td>\n",
       "    </tr>\n",
       "  </tbody>\n",
       "</table>\n",
       "</div>"
      ],
      "text/plain": [
       "               Provinsi Tahun    IPM    UHH      PPP    HLS    RLS\n",
       "0                  ACEH  2020  71.99  69.93   9492.0  14.31   9.33\n",
       "1        SUMATERA UTARA  2020  71.77  69.10  10420.0  13.23   9.54\n",
       "2        SUMATERA BARAT  2020  72.38  69.47  10733.0  14.02   8.99\n",
       "3                  RIAU  2020  72.71  71.60  10675.0  13.20   9.14\n",
       "4                 JAMBI  2020  71.29  71.16  10392.0  12.98   8.55\n",
       "5      SUMATERA SELATAN  2020  70.01  69.88  10652.0  12.45   8.24\n",
       "6              BENGKULU  2020  71.40  69.35  10380.0  13.61   8.84\n",
       "7               LAMPUNG  2020  69.69  70.65   9982.0  12.65   8.05\n",
       "8  KEP. BANGKA BELITUNG  2020  71.47  70.64  12794.0  12.05   8.06\n",
       "9        KEPULAUAN RIAU  2020  75.59  69.96  14209.0  12.87  10.12"
      ]
     },
     "execution_count": 8,
     "metadata": {},
     "output_type": "execute_result"
    }
   ],
   "source": [
    "from functools import reduce\n",
    "\n",
    "##Name of a column in all dataframes is 'Provinsi and Tahun'\n",
    "data_frames=[df1,df2,df3,df4,df5]\n",
    "data = reduce(lambda  left,right: pd.merge(left,right,on=['Provinsi','Tahun'],\n",
    "                                            how='outer'), data_frames)\n",
    "data.head(10)"
   ]
  },
  {
   "cell_type": "markdown",
   "metadata": {},
   "source": [
    "Keterangan variabel:\n",
    "- IPM = Indeks Pembangunan Manusia (Variabel Dependen/Y)\n",
    "- UHH = Usia Harapan Hidup (Variabel Independen/X1)\n",
    "- PPP = Pendapatan per Kapita (Variabel Independen/X2)\n",
    "- HLS = Harapan Lama Sekolah (Variabel Independen/X3)\n",
    "- RLS = Rata-rata Lama Sekolah (Variabel Independen/X4)"
   ]
  },
  {
   "cell_type": "code",
   "execution_count": 9,
   "metadata": {},
   "outputs": [],
   "source": [
    "data=data.drop(['Provinsi','Tahun'], axis = 1)"
   ]
  },
  {
   "cell_type": "code",
   "execution_count": 10,
   "metadata": {},
   "outputs": [
    {
     "data": {
      "text/plain": [
       "(374, 5)"
      ]
     },
     "execution_count": 10,
     "metadata": {},
     "output_type": "execute_result"
    }
   ],
   "source": [
    "data.shape"
   ]
  },
  {
   "cell_type": "code",
   "execution_count": 11,
   "metadata": {},
   "outputs": [
    {
     "name": "stdout",
     "output_type": "stream",
     "text": [
      "<class 'pandas.core.frame.DataFrame'>\n",
      "Int64Index: 374 entries, 0 to 373\n",
      "Data columns (total 5 columns):\n",
      " #   Column  Non-Null Count  Dtype  \n",
      "---  ------  --------------  -----  \n",
      " 0   IPM     371 non-null    float64\n",
      " 1   UHH     374 non-null    float64\n",
      " 2   PPP     371 non-null    float64\n",
      " 3   HLS     371 non-null    float64\n",
      " 4   RLS     371 non-null    float64\n",
      "dtypes: float64(5)\n",
      "memory usage: 17.5 KB\n"
     ]
    }
   ],
   "source": [
    "data.info()"
   ]
  },
  {
   "cell_type": "code",
   "execution_count": 12,
   "metadata": {},
   "outputs": [
    {
     "data": {
      "text/plain": [
       "IPM    3\n",
       "UHH    0\n",
       "PPP    3\n",
       "HLS    3\n",
       "RLS    3\n",
       "dtype: int64"
      ]
     },
     "execution_count": 12,
     "metadata": {},
     "output_type": "execute_result"
    }
   ],
   "source": [
    "data.isnull().sum()"
   ]
  },
  {
   "cell_type": "code",
   "execution_count": 13,
   "metadata": {},
   "outputs": [],
   "source": [
    "data=data.dropna()"
   ]
  },
  {
   "cell_type": "markdown",
   "metadata": {},
   "source": [
    "### CEK DATA SETELAH PROSES CLEANSING"
   ]
  },
  {
   "cell_type": "code",
   "execution_count": 14,
   "metadata": {},
   "outputs": [
    {
     "name": "stdout",
     "output_type": "stream",
     "text": [
      "<class 'pandas.core.frame.DataFrame'>\n",
      "Int64Index: 371 entries, 0 to 373\n",
      "Data columns (total 5 columns):\n",
      " #   Column  Non-Null Count  Dtype  \n",
      "---  ------  --------------  -----  \n",
      " 0   IPM     371 non-null    float64\n",
      " 1   UHH     371 non-null    float64\n",
      " 2   PPP     371 non-null    float64\n",
      " 3   HLS     371 non-null    float64\n",
      " 4   RLS     371 non-null    float64\n",
      "dtypes: float64(5)\n",
      "memory usage: 17.4 KB\n"
     ]
    }
   ],
   "source": [
    "data.info()"
   ]
  },
  {
   "cell_type": "code",
   "execution_count": 15,
   "metadata": {},
   "outputs": [
    {
     "data": {
      "text/html": [
       "<div>\n",
       "<style scoped>\n",
       "    .dataframe tbody tr th:only-of-type {\n",
       "        vertical-align: middle;\n",
       "    }\n",
       "\n",
       "    .dataframe tbody tr th {\n",
       "        vertical-align: top;\n",
       "    }\n",
       "\n",
       "    .dataframe thead th {\n",
       "        text-align: right;\n",
       "    }\n",
       "</style>\n",
       "<table border=\"1\" class=\"dataframe\">\n",
       "  <thead>\n",
       "    <tr style=\"text-align: right;\">\n",
       "      <th></th>\n",
       "      <th>IPM</th>\n",
       "      <th>UHH</th>\n",
       "      <th>PPP</th>\n",
       "      <th>HLS</th>\n",
       "      <th>RLS</th>\n",
       "    </tr>\n",
       "  </thead>\n",
       "  <tbody>\n",
       "    <tr>\n",
       "      <th>count</th>\n",
       "      <td>371.000000</td>\n",
       "      <td>371.000000</td>\n",
       "      <td>371.000000</td>\n",
       "      <td>371.000000</td>\n",
       "      <td>371.000000</td>\n",
       "    </tr>\n",
       "    <tr>\n",
       "      <th>mean</th>\n",
       "      <td>68.566631</td>\n",
       "      <td>69.233504</td>\n",
       "      <td>9939.719677</td>\n",
       "      <td>12.487709</td>\n",
       "      <td>8.069191</td>\n",
       "    </tr>\n",
       "    <tr>\n",
       "      <th>std</th>\n",
       "      <td>4.482865</td>\n",
       "      <td>2.668858</td>\n",
       "      <td>2134.647217</td>\n",
       "      <td>0.990077</td>\n",
       "      <td>1.009154</td>\n",
       "    </tr>\n",
       "    <tr>\n",
       "      <th>min</th>\n",
       "      <td>54.450000</td>\n",
       "      <td>62.500000</td>\n",
       "      <td>6251.000000</td>\n",
       "      <td>8.570000</td>\n",
       "      <td>5.590000</td>\n",
       "    </tr>\n",
       "    <tr>\n",
       "      <th>25%</th>\n",
       "      <td>66.040000</td>\n",
       "      <td>67.455000</td>\n",
       "      <td>8534.500000</td>\n",
       "      <td>11.875000</td>\n",
       "      <td>7.340000</td>\n",
       "    </tr>\n",
       "    <tr>\n",
       "      <th>50%</th>\n",
       "      <td>68.650000</td>\n",
       "      <td>69.460000</td>\n",
       "      <td>9570.000000</td>\n",
       "      <td>12.530000</td>\n",
       "      <td>8.040000</td>\n",
       "    </tr>\n",
       "    <tr>\n",
       "      <th>75%</th>\n",
       "      <td>71.140000</td>\n",
       "      <td>70.875000</td>\n",
       "      <td>10928.500000</td>\n",
       "      <td>13.070000</td>\n",
       "      <td>8.720000</td>\n",
       "    </tr>\n",
       "    <tr>\n",
       "      <th>max</th>\n",
       "      <td>80.770000</td>\n",
       "      <td>74.990000</td>\n",
       "      <td>18527.000000</td>\n",
       "      <td>15.590000</td>\n",
       "      <td>11.130000</td>\n",
       "    </tr>\n",
       "  </tbody>\n",
       "</table>\n",
       "</div>"
      ],
      "text/plain": [
       "              IPM         UHH           PPP         HLS         RLS\n",
       "count  371.000000  371.000000    371.000000  371.000000  371.000000\n",
       "mean    68.566631   69.233504   9939.719677   12.487709    8.069191\n",
       "std      4.482865    2.668858   2134.647217    0.990077    1.009154\n",
       "min     54.450000   62.500000   6251.000000    8.570000    5.590000\n",
       "25%     66.040000   67.455000   8534.500000   11.875000    7.340000\n",
       "50%     68.650000   69.460000   9570.000000   12.530000    8.040000\n",
       "75%     71.140000   70.875000  10928.500000   13.070000    8.720000\n",
       "max     80.770000   74.990000  18527.000000   15.590000   11.130000"
      ]
     },
     "execution_count": 15,
     "metadata": {},
     "output_type": "execute_result"
    }
   ],
   "source": [
    "data.describe()"
   ]
  },
  {
   "cell_type": "code",
   "execution_count": 16,
   "metadata": {},
   "outputs": [
    {
     "data": {
      "text/plain": [
       "IPM    0\n",
       "UHH    0\n",
       "PPP    0\n",
       "HLS    0\n",
       "RLS    0\n",
       "dtype: int64"
      ]
     },
     "execution_count": 16,
     "metadata": {},
     "output_type": "execute_result"
    }
   ],
   "source": [
    "data.isnull().sum()"
   ]
  },
  {
   "cell_type": "markdown",
   "metadata": {},
   "source": [
    "### Eksplorasi Data"
   ]
  },
  {
   "cell_type": "code",
   "execution_count": 17,
   "metadata": {},
   "outputs": [],
   "source": [
    "# import library matplotlib\n",
    "import matplotlib.pyplot as plt\n",
    "\n",
    "# import library seaborn\n",
    "import seaborn as sns\n",
    "\n",
    "# me non aktifkan peringatan pada python dengan import warning -> 'ignore'\n",
    "import warnings\n",
    "warnings.filterwarnings(\"ignore\")"
   ]
  },
  {
   "cell_type": "code",
   "execution_count": 18,
   "metadata": {},
   "outputs": [
    {
     "data": {
      "image/png": "[encoded data removed]",
      "text/plain": [
       "<Figure size 432x288 with 2 Axes>"
      ]
     },
     "metadata": {
      "needs_background": "light"
     },
     "output_type": "display_data"
    }
   ],
   "source": [
    "corrMatrix = data.corr()\n",
    "sns.heatmap(corrMatrix, annot=True)\n",
    "plt.title('Correlation Matrix', loc='center', fontsize=15)\n",
    "plt.show()"
   ]
  },
  {
   "cell_type": "markdown",
   "metadata": {},
   "source": [
    "Berdasarkan hasil yang telah diperoleh dapat dilihat nilai korelasi antar variabel. Perolehan korelasi paling kuat yaitu pada variabel IPM dengan variabel PPP senilai 0.87, diikuti oleh variabel IPM dengan variabel RLS senilai 0.83, variabel IPM dengan variabel UHH senilai 0.77 dan ariabel IPM dengan variabel HLS senilai 0.65 . "
   ]
  },
  {
   "cell_type": "code",
   "execution_count": 19,
   "metadata": {},
   "outputs": [
    {
     "data": {
      "text/plain": [
       "<AxesSubplot:xlabel='RLS', ylabel='IPM'>"
      ]
     },
     "execution_count": 19,
     "metadata": {},
     "output_type": "execute_result"
    },
    {
     "data": {
      "image/png": "[encoded data removed]",
      "text/plain": [
       "<Figure size 1440x432 with 4 Axes>"
      ]
     },
     "metadata": {
      "needs_background": "light"
     },
     "output_type": "display_data"
    }
   ],
   "source": [
    "#Plot \n",
    "fig, ax=plt.subplots(2,2,figsize=(20,6))\n",
    "sns.scatterplot(data['UHH'],data['IPM'], ax=ax[0,0])\n",
    "sns.scatterplot(data['PPP'],data['IPM'], ax=ax[0,1])\n",
    "sns.scatterplot(data['HLS'],data['IPM'], ax=ax[1,0])\n",
    "sns.scatterplot(data['RLS'],data['IPM'], ax=ax[1,1])"
   ]
  },
  {
   "cell_type": "markdown",
   "metadata": {},
   "source": [
    "Berdasarkan scatterplot di atas dapat diketahui bahwa variabel IPM dengan variabel UHH, PPP, HLS, dan RLS memiliki hubungan atau korelasi yang positif di mana jika nilai UHH atau PPP atau HLS atau RLS meningkat maka nilai IPM juga akan meningkat, begitu pula sebaliknya"
   ]
  },
  {
   "cell_type": "markdown",
   "metadata": {},
   "source": [
    "##### Klasifikasi IPM menurut BPS(Badan Pusat Statistik) dibagi menjadi 4 kategori yaitu :\n",
    "- Rendah (IPM < 60)\n",
    "- Sedang (60 ≤ IPM < 70) \n",
    "- Tinggi (70 ≤ IPM < 80)\n",
    "- Sangat tinggi (IPM ≥ 80)"
   ]
  },
  {
   "cell_type": "code",
   "execution_count": 20,
   "metadata": {},
   "outputs": [
    {
     "data": {
      "text/html": [
       "<div>\n",
       "<style scoped>\n",
       "    .dataframe tbody tr th:only-of-type {\n",
       "        vertical-align: middle;\n",
       "    }\n",
       "\n",
       "    .dataframe tbody tr th {\n",
       "        vertical-align: top;\n",
       "    }\n",
       "\n",
       "    .dataframe thead th {\n",
       "        text-align: right;\n",
       "    }\n",
       "</style>\n",
       "<table border=\"1\" class=\"dataframe\">\n",
       "  <thead>\n",
       "    <tr style=\"text-align: right;\">\n",
       "      <th></th>\n",
       "      <th>IPM</th>\n",
       "      <th>UHH</th>\n",
       "      <th>PPP</th>\n",
       "      <th>HLS</th>\n",
       "      <th>RLS</th>\n",
       "      <th>Klasifikasi IPM</th>\n",
       "    </tr>\n",
       "  </thead>\n",
       "  <tbody>\n",
       "    <tr>\n",
       "      <th>0</th>\n",
       "      <td>71.99</td>\n",
       "      <td>69.93</td>\n",
       "      <td>9492.0</td>\n",
       "      <td>14.31</td>\n",
       "      <td>9.33</td>\n",
       "      <td>Tinggi</td>\n",
       "    </tr>\n",
       "    <tr>\n",
       "      <th>1</th>\n",
       "      <td>71.77</td>\n",
       "      <td>69.10</td>\n",
       "      <td>10420.0</td>\n",
       "      <td>13.23</td>\n",
       "      <td>9.54</td>\n",
       "      <td>Tinggi</td>\n",
       "    </tr>\n",
       "    <tr>\n",
       "      <th>2</th>\n",
       "      <td>72.38</td>\n",
       "      <td>69.47</td>\n",
       "      <td>10733.0</td>\n",
       "      <td>14.02</td>\n",
       "      <td>8.99</td>\n",
       "      <td>Tinggi</td>\n",
       "    </tr>\n",
       "    <tr>\n",
       "      <th>3</th>\n",
       "      <td>72.71</td>\n",
       "      <td>71.60</td>\n",
       "      <td>10675.0</td>\n",
       "      <td>13.20</td>\n",
       "      <td>9.14</td>\n",
       "      <td>Tinggi</td>\n",
       "    </tr>\n",
       "    <tr>\n",
       "      <th>4</th>\n",
       "      <td>71.29</td>\n",
       "      <td>71.16</td>\n",
       "      <td>10392.0</td>\n",
       "      <td>12.98</td>\n",
       "      <td>8.55</td>\n",
       "      <td>Tinggi</td>\n",
       "    </tr>\n",
       "    <tr>\n",
       "      <th>...</th>\n",
       "      <td>...</td>\n",
       "      <td>...</td>\n",
       "      <td>...</td>\n",
       "      <td>...</td>\n",
       "      <td>...</td>\n",
       "      <td>...</td>\n",
       "    </tr>\n",
       "    <tr>\n",
       "      <th>369</th>\n",
       "      <td>59.74</td>\n",
       "      <td>62.50</td>\n",
       "      <td>8003.0</td>\n",
       "      <td>10.58</td>\n",
       "      <td>6.63</td>\n",
       "      <td>Rendah</td>\n",
       "    </tr>\n",
       "    <tr>\n",
       "      <th>370</th>\n",
       "      <td>64.27</td>\n",
       "      <td>64.46</td>\n",
       "      <td>7362.0</td>\n",
       "      <td>12.62</td>\n",
       "      <td>8.64</td>\n",
       "      <td>Sedang</td>\n",
       "    </tr>\n",
       "    <tr>\n",
       "      <th>371</th>\n",
       "      <td>62.79</td>\n",
       "      <td>66.70</td>\n",
       "      <td>6813.0</td>\n",
       "      <td>11.74</td>\n",
       "      <td>7.91</td>\n",
       "      <td>Sedang</td>\n",
       "    </tr>\n",
       "    <tr>\n",
       "      <th>372</th>\n",
       "      <td>59.60</td>\n",
       "      <td>64.59</td>\n",
       "      <td>6677.0</td>\n",
       "      <td>11.10</td>\n",
       "      <td>6.77</td>\n",
       "      <td>Rendah</td>\n",
       "    </tr>\n",
       "    <tr>\n",
       "      <th>373</th>\n",
       "      <td>54.45</td>\n",
       "      <td>64.31</td>\n",
       "      <td>6251.0</td>\n",
       "      <td>8.57</td>\n",
       "      <td>5.59</td>\n",
       "      <td>Rendah</td>\n",
       "    </tr>\n",
       "  </tbody>\n",
       "</table>\n",
       "<p>371 rows × 6 columns</p>\n",
       "</div>"
      ],
      "text/plain": [
       "       IPM    UHH      PPP    HLS   RLS Klasifikasi IPM\n",
       "0    71.99  69.93   9492.0  14.31  9.33          Tinggi\n",
       "1    71.77  69.10  10420.0  13.23  9.54          Tinggi\n",
       "2    72.38  69.47  10733.0  14.02  8.99          Tinggi\n",
       "3    72.71  71.60  10675.0  13.20  9.14          Tinggi\n",
       "4    71.29  71.16  10392.0  12.98  8.55          Tinggi\n",
       "..     ...    ...      ...    ...   ...             ...\n",
       "369  59.74  62.50   8003.0  10.58  6.63          Rendah\n",
       "370  64.27  64.46   7362.0  12.62  8.64          Sedang\n",
       "371  62.79  66.70   6813.0  11.74  7.91          Sedang\n",
       "372  59.60  64.59   6677.0  11.10  6.77          Rendah\n",
       "373  54.45  64.31   6251.0   8.57  5.59          Rendah\n",
       "\n",
       "[371 rows x 6 columns]"
      ]
     },
     "execution_count": 20,
     "metadata": {},
     "output_type": "execute_result"
    }
   ],
   "source": [
    "data['Klasifikasi IPM']=pd.cut(data['IPM'],\n",
    "                              bins=[0,60,70,80,100],\n",
    "                              labels=['Rendah','Sedang','Tinggi','Sangat Tinggi'])\n",
    "data"
   ]
  },
  {
   "cell_type": "code",
   "execution_count": 21,
   "metadata": {},
   "outputs": [
    {
     "data": {
      "text/html": [
       "<div>\n",
       "<style scoped>\n",
       "    .dataframe tbody tr th:only-of-type {\n",
       "        vertical-align: middle;\n",
       "    }\n",
       "\n",
       "    .dataframe tbody tr th {\n",
       "        vertical-align: top;\n",
       "    }\n",
       "\n",
       "    .dataframe thead th {\n",
       "        text-align: right;\n",
       "    }\n",
       "</style>\n",
       "<table border=\"1\" class=\"dataframe\">\n",
       "  <thead>\n",
       "    <tr style=\"text-align: right;\">\n",
       "      <th></th>\n",
       "      <th>UHH</th>\n",
       "      <th>PPP</th>\n",
       "      <th>HLS</th>\n",
       "      <th>RLS</th>\n",
       "      <th>IPM</th>\n",
       "    </tr>\n",
       "  </thead>\n",
       "  <tbody>\n",
       "    <tr>\n",
       "      <th>0</th>\n",
       "      <td>69.93</td>\n",
       "      <td>9492.0</td>\n",
       "      <td>14.31</td>\n",
       "      <td>9.33</td>\n",
       "      <td>Tinggi</td>\n",
       "    </tr>\n",
       "    <tr>\n",
       "      <th>1</th>\n",
       "      <td>69.10</td>\n",
       "      <td>10420.0</td>\n",
       "      <td>13.23</td>\n",
       "      <td>9.54</td>\n",
       "      <td>Tinggi</td>\n",
       "    </tr>\n",
       "    <tr>\n",
       "      <th>2</th>\n",
       "      <td>69.47</td>\n",
       "      <td>10733.0</td>\n",
       "      <td>14.02</td>\n",
       "      <td>8.99</td>\n",
       "      <td>Tinggi</td>\n",
       "    </tr>\n",
       "    <tr>\n",
       "      <th>3</th>\n",
       "      <td>71.60</td>\n",
       "      <td>10675.0</td>\n",
       "      <td>13.20</td>\n",
       "      <td>9.14</td>\n",
       "      <td>Tinggi</td>\n",
       "    </tr>\n",
       "    <tr>\n",
       "      <th>4</th>\n",
       "      <td>71.16</td>\n",
       "      <td>10392.0</td>\n",
       "      <td>12.98</td>\n",
       "      <td>8.55</td>\n",
       "      <td>Tinggi</td>\n",
       "    </tr>\n",
       "    <tr>\n",
       "      <th>...</th>\n",
       "      <td>...</td>\n",
       "      <td>...</td>\n",
       "      <td>...</td>\n",
       "      <td>...</td>\n",
       "      <td>...</td>\n",
       "    </tr>\n",
       "    <tr>\n",
       "      <th>369</th>\n",
       "      <td>62.50</td>\n",
       "      <td>8003.0</td>\n",
       "      <td>10.58</td>\n",
       "      <td>6.63</td>\n",
       "      <td>Rendah</td>\n",
       "    </tr>\n",
       "    <tr>\n",
       "      <th>370</th>\n",
       "      <td>64.46</td>\n",
       "      <td>7362.0</td>\n",
       "      <td>12.62</td>\n",
       "      <td>8.64</td>\n",
       "      <td>Sedang</td>\n",
       "    </tr>\n",
       "    <tr>\n",
       "      <th>371</th>\n",
       "      <td>66.70</td>\n",
       "      <td>6813.0</td>\n",
       "      <td>11.74</td>\n",
       "      <td>7.91</td>\n",
       "      <td>Sedang</td>\n",
       "    </tr>\n",
       "    <tr>\n",
       "      <th>372</th>\n",
       "      <td>64.59</td>\n",
       "      <td>6677.0</td>\n",
       "      <td>11.10</td>\n",
       "      <td>6.77</td>\n",
       "      <td>Rendah</td>\n",
       "    </tr>\n",
       "    <tr>\n",
       "      <th>373</th>\n",
       "      <td>64.31</td>\n",
       "      <td>6251.0</td>\n",
       "      <td>8.57</td>\n",
       "      <td>5.59</td>\n",
       "      <td>Rendah</td>\n",
       "    </tr>\n",
       "  </tbody>\n",
       "</table>\n",
       "<p>371 rows × 5 columns</p>\n",
       "</div>"
      ],
      "text/plain": [
       "       UHH      PPP    HLS   RLS     IPM\n",
       "0    69.93   9492.0  14.31  9.33  Tinggi\n",
       "1    69.10  10420.0  13.23  9.54  Tinggi\n",
       "2    69.47  10733.0  14.02  8.99  Tinggi\n",
       "3    71.60  10675.0  13.20  9.14  Tinggi\n",
       "4    71.16  10392.0  12.98  8.55  Tinggi\n",
       "..     ...      ...    ...   ...     ...\n",
       "369  62.50   8003.0  10.58  6.63  Rendah\n",
       "370  64.46   7362.0  12.62  8.64  Sedang\n",
       "371  66.70   6813.0  11.74  7.91  Sedang\n",
       "372  64.59   6677.0  11.10  6.77  Rendah\n",
       "373  64.31   6251.0   8.57  5.59  Rendah\n",
       "\n",
       "[371 rows x 5 columns]"
      ]
     },
     "execution_count": 21,
     "metadata": {},
     "output_type": "execute_result"
    }
   ],
   "source": [
    "data=data.drop(['IPM'], axis = 1)\n",
    "data.rename(columns={'Klasifikasi IPM':'IPM'}, inplace=True)\n",
    "data"
   ]
  },
  {
   "cell_type": "code",
   "execution_count": 22,
   "metadata": {},
   "outputs": [
    {
     "data": {
      "image/png": "[encoded data removed]",
      "text/plain": [
       "<Figure size 720x432 with 1 Axes>"
      ]
     },
     "metadata": {
      "needs_background": "light"
     },
     "output_type": "display_data"
    }
   ],
   "source": [
    "fig = data[data.IPM=='Sangat Tinggi'].plot(kind='scatter',x='UHH',y='PPP',color='orange', label='Sangat Tinggi')\n",
    "data[data.IPM=='Tinggi'].plot(kind='scatter',x='UHH',y='PPP',color='blue', label='Tinggi',ax=fig)\n",
    "data[data.IPM=='Sedang'].plot(kind='scatter',x='UHH',y='PPP',color='green', label='Sedang', ax=fig)\n",
    "data[data.IPM=='Rendah'].plot(kind='scatter',x='UHH',y='PPP',color='red', label='Rendah', ax=fig)\n",
    "fig.set_xlabel(\"UHH\")\n",
    "fig.set_ylabel(\"PPP\")\n",
    "fig.set_title(\"UHH vs PPP\")\n",
    "fig=plt.gcf()\n",
    "fig.set_size_inches(10,6)\n",
    "plt.show()"
   ]
  },
  {
   "cell_type": "markdown",
   "metadata": {},
   "source": [
    "Berdasarkan plot di atas dapat diketahui dengan karakteristik UHH dan PPP kita dapat  mengklasifikasikan IPM tetapi ada sedikit garis tipis antara kategori sedang dan tinggi"
   ]
  },
  {
   "cell_type": "code",
   "execution_count": 23,
   "metadata": {},
   "outputs": [
    {
     "data": {
      "image/png": "[encoded data removed]",
      "text/plain": [
       "<Figure size 720x432 with 1 Axes>"
      ]
     },
     "metadata": {
      "needs_background": "light"
     },
     "output_type": "display_data"
    }
   ],
   "source": [
    "fig = data[data.IPM=='Sangat Tinggi'].plot(kind='scatter',x='HLS',y='RLS',color='orange', label='Sangat Tinggi')\n",
    "data[data.IPM=='Tinggi'].plot(kind='scatter',x='HLS',y='RLS',color='blue', label='Tinggi',ax=fig)\n",
    "data[data.IPM=='Sedang'].plot(kind='scatter',x='HLS',y='RLS',color='green', label='Sedang', ax=fig)\n",
    "data[data.IPM=='Rendah'].plot(kind='scatter',x='HLS',y='RLS',color='red', label='Rendah', ax=fig)\n",
    "fig.set_xlabel(\"HLS\")\n",
    "fig.set_ylabel(\"RLS\")\n",
    "fig.set_title(\"HLS vs RLS\")\n",
    "fig=plt.gcf()\n",
    "fig.set_size_inches(10,6)\n",
    "plt.show()"
   ]
  },
  {
   "cell_type": "markdown",
   "metadata": {},
   "source": [
    "Berdasarkan plot di atas dapat diketahui bahwa karakteristik HLS dan RLS dapat membedakan kategori rendah dan sangat tinggi tetapi tidak dengan kategori sedang dan tinggi"
   ]
  },
  {
   "cell_type": "markdown",
   "metadata": {},
   "source": [
    "## Pembentukan Model"
   ]
  },
  {
   "cell_type": "code",
   "execution_count": 24,
   "metadata": {},
   "outputs": [],
   "source": [
    "X=data.iloc[:,0:3].values\n",
    "y=data.iloc[:,4].values"
   ]
  },
  {
   "cell_type": "code",
   "execution_count": 25,
   "metadata": {},
   "outputs": [],
   "source": [
    "from sklearn.preprocessing import LabelEncoder\n",
    "le = LabelEncoder()\n",
    "y = le.fit_transform(y)"
   ]
  },
  {
   "cell_type": "code",
   "execution_count": 26,
   "metadata": {},
   "outputs": [],
   "source": [
    "#Metrics\n",
    "from sklearn.metrics import make_scorer, accuracy_score,precision_score\n",
    "from sklearn.metrics import classification_report\n",
    "\n",
    "# Import libarary confusion matrix\n",
    "from sklearn.metrics import confusion_matrix\n",
    "\n",
    "from sklearn.metrics import accuracy_score ,precision_score,recall_score,f1_score\n",
    "\n",
    "#Model Select\n",
    "from sklearn.model_selection import KFold,train_test_split,cross_val_score\n",
    "from sklearn.model_selection import train_test_split\n",
    "\n",
    "# Import libarary Logistic Regression\n",
    "from sklearn.linear_model import  LogisticRegression\n",
    "\n",
    "from sklearn import linear_model\n",
    "from sklearn.linear_model import SGDClassifier\n",
    "\n",
    "# Import libarary KNN\n",
    "from sklearn.neighbors import KNeighborsClassifier\n",
    "\n",
    "# Import libarary Support Vector Machines dan linier Support Vector Machines\n",
    "from sklearn.svm import SVC, LinearSVC\n",
    "\n",
    "# Import libarary Gaussian Naive Bayes\n",
    "from sklearn.naive_bayes import GaussianNB"
   ]
  },
  {
   "cell_type": "code",
   "execution_count": 27,
   "metadata": {},
   "outputs": [],
   "source": [
    "#Train and Test split\n",
    "X_train,X_test,y_train,y_test=train_test_split(X,y,test_size=0.3,random_state=0)"
   ]
  },
  {
   "cell_type": "markdown",
   "metadata": {},
   "source": [
    "### KKN"
   ]
  },
  {
   "cell_type": "code",
   "execution_count": 28,
   "metadata": {},
   "outputs": [
    {
     "name": "stdout",
     "output_type": "stream",
     "text": [
      "Confusion matrix for KNN\n",
      " [[ 1  0  2  0]\n",
      " [ 0  2  0  0]\n",
      " [ 0  0 57 10]\n",
      " [ 0  1  7 32]]\n",
      "accuracy_KNN : 0.821\n",
      "precision_KNN : 0.821\n",
      "recall_KNN: 0.821\n",
      "f1-score_KNN : 0.821\n"
     ]
    }
   ],
   "source": [
    "knn = KNeighborsClassifier(n_neighbors = 3)\n",
    "knn.fit(X_train, y_train)\n",
    "Y_pred = knn.predict(X_test) \n",
    "accuracy_knn=round(accuracy_score(y_test,Y_pred)* 100, 2)\n",
    "acc_knn = round(knn.score(X_train, y_train) * 100, 2)\n",
    "\n",
    "cm = confusion_matrix(y_test, Y_pred)\n",
    "accuracy = accuracy_score(y_test,Y_pred)\n",
    "precision =precision_score(y_test, Y_pred,average='micro')\n",
    "recall =  recall_score(y_test, Y_pred,average='micro')\n",
    "f1 = f1_score(y_test,Y_pred,average='micro')\n",
    "print('Confusion matrix for KNN\\n',cm)\n",
    "print('accuracy_KNN : %.3f' %accuracy)\n",
    "print('precision_KNN : %.3f' %precision)\n",
    "print('recall_KNN: %.3f' %recall)\n",
    "print('f1-score_KNN : %.3f' %f1)"
   ]
  },
  {
   "cell_type": "code",
   "execution_count": 29,
   "metadata": {},
   "outputs": [
    {
     "data": {
      "image/png": "[encoded data removed]",
      "text/plain": [
       "<Figure size 1440x360 with 1 Axes>"
      ]
     },
     "metadata": {
      "needs_background": "light"
     },
     "output_type": "display_data"
    }
   ],
   "source": [
    "plt.subplots(figsize=(20,5))\n",
    "a_index=list(range(1,50))\n",
    "a=pd.Series()\n",
    "x=range(1,50)\n",
    "#x=[1,2,3,4,5,6,7,8,9,10]\n",
    "for i in list(range(1,50)):\n",
    "    model=KNeighborsClassifier(n_neighbors=i) \n",
    "    model.fit(X_train, y_train) \n",
    "    prediction=model.predict(X_test)\n",
    "    a=a.append(pd.Series(accuracy_score(y_test,prediction)))\n",
    "plt.plot(a_index, a,marker=\"*\")\n",
    "plt.xticks(x)\n",
    "plt.show()"
   ]
  },
  {
   "cell_type": "markdown",
   "metadata": {},
   "source": [
    "### Regresi Logistic"
   ]
  },
  {
   "cell_type": "code",
   "execution_count": 30,
   "metadata": {},
   "outputs": [
    {
     "name": "stdout",
     "output_type": "stream",
     "text": [
      "Confusion matrix for Logistic Regression\n",
      " [[ 1  0  2  0]\n",
      " [ 0  2  0  0]\n",
      " [ 0  0 60  7]\n",
      " [ 0  1 10 29]]\n",
      "accuracy_Logistic Regression : 0.821\n",
      "precision_Logistic Regression : 0.821\n",
      "recall_Logistic Regression: 0.821\n",
      "f1-score_Logistic Regression : 0.821\n"
     ]
    }
   ],
   "source": [
    "logreg = LogisticRegression(solver= 'lbfgs',max_iter=400)\n",
    "logreg.fit(X_train, y_train)\n",
    "Y_pred = logreg.predict(X_test)\n",
    "accuracy_lr=round(accuracy_score(y_test,Y_pred)* 100, 2)\n",
    "acc_log = round(logreg.score(X_train, y_train) * 100, 2)\n",
    "\n",
    "\n",
    "cm = confusion_matrix(y_test, Y_pred,)\n",
    "accuracy = accuracy_score(y_test,Y_pred)\n",
    "precision =precision_score(y_test, Y_pred,average='micro')\n",
    "recall =  recall_score(y_test, Y_pred,average='micro')\n",
    "f1 = f1_score(y_test,Y_pred,average='micro')\n",
    "print('Confusion matrix for Logistic Regression\\n',cm)\n",
    "print('accuracy_Logistic Regression : %.3f' %accuracy)\n",
    "print('precision_Logistic Regression : %.3f' %precision)\n",
    "print('recall_Logistic Regression: %.3f' %recall)\n",
    "print('f1-score_Logistic Regression : %.3f' %f1)"
   ]
  },
  {
   "cell_type": "markdown",
   "metadata": {},
   "source": [
    "### Naive Bayes"
   ]
  },
  {
   "cell_type": "code",
   "execution_count": 31,
   "metadata": {},
   "outputs": [
    {
     "name": "stdout",
     "output_type": "stream",
     "text": [
      "Confusion matrix for Naive Bayes\n",
      " [[ 3  0  0  0]\n",
      " [ 0  2  0  0]\n",
      " [ 1  0 63  3]\n",
      " [ 0  1  4 35]]\n",
      "accuracy_Naive Bayes: 0.920\n",
      "precision_Naive Bayes: 0.920\n",
      "recall_Naive Bayes: 0.920\n",
      "f1-score_Naive Bayes : 0.920\n"
     ]
    }
   ],
   "source": [
    "gaussian = GaussianNB()\n",
    "gaussian.fit(X_train, y_train)\n",
    "Y_pred = gaussian.predict(X_test) \n",
    "accuracy_nb=round(accuracy_score(y_test,Y_pred)* 100, 2)\n",
    "acc_gaussian = round(gaussian.score(X_train, y_train) * 100, 2)\n",
    "\n",
    "cm = confusion_matrix(y_test, Y_pred)\n",
    "accuracy = accuracy_score(y_test,Y_pred)\n",
    "precision =precision_score(y_test, Y_pred,average='micro')\n",
    "recall =  recall_score(y_test, Y_pred,average='micro')\n",
    "f1 = f1_score(y_test,Y_pred,average='micro')\n",
    "print('Confusion matrix for Naive Bayes\\n',cm)\n",
    "print('accuracy_Naive Bayes: %.3f' %accuracy)\n",
    "print('precision_Naive Bayes: %.3f' %precision)\n",
    "print('recall_Naive Bayes: %.3f' %recall)\n",
    "print('f1-score_Naive Bayes : %.3f' %f1)"
   ]
  },
  {
   "cell_type": "markdown",
   "metadata": {},
   "source": [
    "### SVM"
   ]
  },
  {
   "cell_type": "code",
   "execution_count": 32,
   "metadata": {},
   "outputs": [
    {
     "name": "stdout",
     "output_type": "stream",
     "text": [
      "Confusion matrix for SVC\n",
      " [[ 0  0  3  0]\n",
      " [ 0  0  0  2]\n",
      " [ 0  0 65  2]\n",
      " [ 0  0 22 18]]\n",
      "accuracy_SVC: 0.741\n",
      "precision_SVC: 0.741\n",
      "recall_SVC: 0.741\n",
      "f1-score_SVC : 0.741\n"
     ]
    }
   ],
   "source": [
    "linear_svc = LinearSVC(max_iter=4000)\n",
    "linear_svc.fit(X_train, y_train)\n",
    "Y_pred = linear_svc.predict(X_test)\n",
    "accuracy_svc=round(accuracy_score(y_test,Y_pred)* 100, 2)\n",
    "acc_linear_svc = round(linear_svc.score(X_train, y_train) * 100, 2)\n",
    "\n",
    "cm = confusion_matrix(y_test, Y_pred)\n",
    "accuracy = accuracy_score(y_test,Y_pred)\n",
    "precision =precision_score(y_test, Y_pred,average='micro')\n",
    "recall =  recall_score(y_test, Y_pred,average='micro')\n",
    "f1 = f1_score(y_test,Y_pred,average='micro')\n",
    "print('Confusion matrix for SVC\\n',cm)\n",
    "print('accuracy_SVC: %.3f' %accuracy)\n",
    "print('precision_SVC: %.3f' %precision)\n",
    "print('recall_SVC: %.3f' %recall)\n",
    "print('f1-score_SVC : %.3f' %f1)"
   ]
  },
  {
   "cell_type": "markdown",
   "metadata": {},
   "source": [
    "### Decision Tree"
   ]
  },
  {
   "cell_type": "code",
   "execution_count": 33,
   "metadata": {},
   "outputs": [],
   "source": [
    "from sklearn.tree import DecisionTreeClassifier"
   ]
  },
  {
   "cell_type": "code",
   "execution_count": 34,
   "metadata": {},
   "outputs": [
    {
     "name": "stdout",
     "output_type": "stream",
     "text": [
      "Confusion matrix for DecisionTree\n",
      " [[ 2  0  1  0]\n",
      " [ 0  2  0  0]\n",
      " [ 0  0 63  4]\n",
      " [ 0  1  4 35]]\n",
      "accuracy_DecisionTree: 0.911\n",
      "precision_DecisionTree: 0.911\n",
      "recall_DecisionTree: 0.911\n",
      "f1-score_DecisionTree : 0.911\n"
     ]
    }
   ],
   "source": [
    "decision_tree = DecisionTreeClassifier() \n",
    "decision_tree.fit(X_train, y_train)  \n",
    "Y_pred = decision_tree.predict(X_test) \n",
    "accuracy_dt=round(accuracy_score(y_test,Y_pred)* 100, 2)\n",
    "acc_decision_tree = round(decision_tree.score(X_train, y_train) * 100, 2)\n",
    "\n",
    "cm = confusion_matrix(y_test, Y_pred)\n",
    "accuracy = accuracy_score(y_test,Y_pred)\n",
    "precision =precision_score(y_test, Y_pred,average='micro')\n",
    "recall =  recall_score(y_test, Y_pred,average='micro')\n",
    "f1 = f1_score(y_test,Y_pred,average='micro')\n",
    "print('Confusion matrix for DecisionTree\\n',cm)\n",
    "print('accuracy_DecisionTree: %.3f' %accuracy)\n",
    "print('precision_DecisionTree: %.3f' %precision)\n",
    "print('recall_DecisionTree: %.3f' %recall)\n",
    "print('f1-score_DecisionTree : %.3f' %f1)"
   ]
  },
  {
   "cell_type": "markdown",
   "metadata": {},
   "source": [
    "### Random Forest"
   ]
  },
  {
   "cell_type": "code",
   "execution_count": 35,
   "metadata": {},
   "outputs": [],
   "source": [
    "# Import Library Random Forest Classifier\n",
    "from sklearn.ensemble import RandomForestClassifier\n",
    "\n",
    "from sklearn.model_selection import train_test_split"
   ]
  },
  {
   "cell_type": "code",
   "execution_count": 36,
   "metadata": {},
   "outputs": [
    {
     "name": "stdout",
     "output_type": "stream",
     "text": [
      "accuracy_random_Forest : 0.929\n",
      "precision_random_Forest : 0.929\n",
      "recall_random_Forest : 0.929\n",
      "f1-score_random_Forest : 0.929\n"
     ]
    }
   ],
   "source": [
    "random_forest = RandomForestClassifier(n_estimators=100)\n",
    "random_forest.fit(X_train, y_train)\n",
    "Y_prediction = random_forest.predict(X_test)\n",
    "accuracy_rf=round(accuracy_score(y_test,Y_prediction)* 100, 2)\n",
    "acc_random_forest = round(random_forest.score(X_train, y_train) * 100, 2)\n",
    "\n",
    "accuracy = accuracy_score(y_test,Y_prediction)\n",
    "precision =precision_score(y_test, Y_prediction,average='micro')\n",
    "recall =recall_score(y_test, Y_prediction,average='micro')\n",
    "f1 = f1_score(y_test,Y_prediction,average='micro')\n",
    "print('accuracy_random_Forest : %.3f' %accuracy)\n",
    "print('precision_random_Forest : %.3f' %precision)\n",
    "print('recall_random_Forest : %.3f' %recall)\n",
    "print('f1-score_random_Forest : %.3f' %f1)"
   ]
  },
  {
   "cell_type": "markdown",
   "metadata": {},
   "source": [
    "## Pemilihan Model Terbaik"
   ]
  },
  {
   "cell_type": "code",
   "execution_count": 37,
   "metadata": {},
   "outputs": [
    {
     "data": {
      "text/html": [
       "<div>\n",
       "<style scoped>\n",
       "    .dataframe tbody tr th:only-of-type {\n",
       "        vertical-align: middle;\n",
       "    }\n",
       "\n",
       "    .dataframe tbody tr th {\n",
       "        vertical-align: top;\n",
       "    }\n",
       "\n",
       "    .dataframe thead th {\n",
       "        text-align: right;\n",
       "    }\n",
       "</style>\n",
       "<table border=\"1\" class=\"dataframe\">\n",
       "  <thead>\n",
       "    <tr style=\"text-align: right;\">\n",
       "      <th></th>\n",
       "      <th>Model</th>\n",
       "      <th>Score</th>\n",
       "      <th>Accuracy_score</th>\n",
       "    </tr>\n",
       "  </thead>\n",
       "  <tbody>\n",
       "    <tr>\n",
       "      <th>0</th>\n",
       "      <td>Random Forest</td>\n",
       "      <td>100.00</td>\n",
       "      <td>92.86</td>\n",
       "    </tr>\n",
       "    <tr>\n",
       "      <th>1</th>\n",
       "      <td>Naive Bayes</td>\n",
       "      <td>91.89</td>\n",
       "      <td>91.96</td>\n",
       "    </tr>\n",
       "    <tr>\n",
       "      <th>2</th>\n",
       "      <td>Decision Tree</td>\n",
       "      <td>100.00</td>\n",
       "      <td>91.07</td>\n",
       "    </tr>\n",
       "    <tr>\n",
       "      <th>3</th>\n",
       "      <td>KNN</td>\n",
       "      <td>86.87</td>\n",
       "      <td>82.14</td>\n",
       "    </tr>\n",
       "    <tr>\n",
       "      <th>4</th>\n",
       "      <td>Logistic Regression</td>\n",
       "      <td>81.85</td>\n",
       "      <td>82.14</td>\n",
       "    </tr>\n",
       "    <tr>\n",
       "      <th>5</th>\n",
       "      <td>Support Vector Machine</td>\n",
       "      <td>74.13</td>\n",
       "      <td>74.11</td>\n",
       "    </tr>\n",
       "  </tbody>\n",
       "</table>\n",
       "</div>"
      ],
      "text/plain": [
       "                     Model   Score  Accuracy_score\n",
       "0            Random Forest  100.00           92.86\n",
       "1              Naive Bayes   91.89           91.96\n",
       "2            Decision Tree  100.00           91.07\n",
       "3                      KNN   86.87           82.14\n",
       "4      Logistic Regression   81.85           82.14\n",
       "5   Support Vector Machine   74.13           74.11"
      ]
     },
     "execution_count": 37,
     "metadata": {},
     "output_type": "execute_result"
    }
   ],
   "source": [
    "results = pd.DataFrame({\n",
    "    'Model': [ 'KNN', \n",
    "              'Logistic Regression', \n",
    "              'Random Forest',\n",
    "              'Naive Bayes',  \n",
    "              ' Support Vector Machine', \n",
    "              'Decision Tree'],\n",
    "    'Score': [ acc_knn,\n",
    "              acc_log, \n",
    "              acc_random_forest,\n",
    "              acc_gaussian,  \n",
    "              acc_linear_svc,\n",
    "              acc_decision_tree],\n",
    "     \"Accuracy_score\":[accuracy_knn,\n",
    "                      accuracy_lr,\n",
    "                      accuracy_rf,\n",
    "                      accuracy_nb,\n",
    "                      accuracy_svc,\n",
    "                      accuracy_dt\n",
    "                     ]})\n",
    "result_df = results.sort_values(by='Accuracy_score', ascending=False)\n",
    "result_df = result_df.reset_index(drop=True)\n",
    "result_df.head(9)"
   ]
  },
  {
   "cell_type": "code",
   "execution_count": 38,
   "metadata": {},
   "outputs": [
    {
     "data": {
      "image/png": "[encoded data removed]",
      "text/plain": [
       "<Figure size 864x576 with 1 Axes>"
      ]
     },
     "metadata": {
      "needs_background": "light"
     },
     "output_type": "display_data"
    }
   ],
   "source": [
    "plt.subplots(figsize=(12,8))\n",
    "ax=sns.barplot(x='Model',y=\"Accuracy_score\",data=result_df)\n",
    "labels = (result_df[\"Accuracy_score\"])\n",
    "# add result numbers on barchart\n",
    "for i, v in enumerate(labels):\n",
    "    ax.text(i, v+1, str(v), horizontalalignment = 'center', size = 15, color = 'black')"
   ]
  }
 ],
 "metadata": {
  "kernelspec": {
   "display_name": "Python 3",
   "language": "python",
   "name": "python3"
  },
  "language_info": {
   "codemirror_mode": {
    "name": "ipython",
    "version": 3
   },
   "file_extension": ".py",
   "mimetype": "text/x-python",
   "name": "python",
   "nbconvert_exporter": "python",
   "pygments_lexer": "ipython3",
   "version": "3.8.5"
  }
 },
 "nbformat": 4,
 "nbformat_minor": 2
}
